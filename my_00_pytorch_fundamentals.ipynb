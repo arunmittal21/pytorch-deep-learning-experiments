{
 "cells": [
  {
   "cell_type": "code",
   "execution_count": 2,
   "id": "e72afe20-3600-413c-a084-7ce80a6e8ac9",
   "metadata": {},
   "outputs": [
    {
     "data": {
      "text/plain": [
       "'2.5.1'"
      ]
     },
     "execution_count": 2,
     "metadata": {},
     "output_type": "execute_result"
    }
   ],
   "source": [
    "import torch\n",
    "\n",
    "torch.__version__\n"
   ]
  },
  {
   "cell_type": "code",
   "execution_count": 4,
   "id": "c86e6a05-2b2e-45e4-9229-9adf82b57266",
   "metadata": {},
   "outputs": [
    {
     "name": "stdout",
     "output_type": "stream",
     "text": [
      "0\n",
      "4\n"
     ]
    },
    {
     "data": {
      "text/plain": [
       "torch.Size([2, 2])"
      ]
     },
     "execution_count": 4,
     "metadata": {},
     "output_type": "execute_result"
    }
   ],
   "source": [
    "scalar = torch.tensor(4)\n",
    "print(scalar.ndimension())\n",
    "print(scalar.item())\n",
    "v = torch.tensor([[3,5], [6,6]])\n",
    "v.shape"
   ]
  },
  {
   "cell_type": "code",
   "execution_count": 9,
   "id": "fa53eba3-169e-489d-b8bd-5fcddee9a33f",
   "metadata": {},
   "outputs": [
    {
     "data": {
      "text/plain": [
       "(tensor([[[0.0853, 0.1702, 0.0324, 0.1442],\n",
       "          [0.6988, 0.6664, 0.9812, 0.6463],\n",
       "          [0.0156, 0.3980, 0.5391, 0.7024],\n",
       "          [0.8771, 0.4747, 0.5949, 0.7769]],\n",
       " \n",
       "         [[0.4325, 0.9230, 0.2996, 0.4636],\n",
       "          [0.7663, 0.3959, 0.9290, 0.6049],\n",
       "          [0.8661, 0.5128, 0.1033, 0.7972],\n",
       "          [0.4377, 0.9324, 0.1219, 0.0787]],\n",
       " \n",
       "         [[0.5074, 0.5570, 0.8745, 0.2875],\n",
       "          [0.9344, 0.6902, 0.2648, 0.2996],\n",
       "          [0.5797, 0.1022, 0.1167, 0.5509],\n",
       "          [0.0154, 0.9269, 0.0060, 0.9313]]]),\n",
       " torch.float32)"
      ]
     },
     "execution_count": 9,
     "metadata": {},
     "output_type": "execute_result"
    }
   ],
   "source": [
    "T1 = torch.rand(3,4,4)\n",
    "T1, T1.dtype"
   ]
  },
  {
   "cell_type": "code",
   "execution_count": 13,
   "id": "7c226143-4fa5-4a84-a248-65521450be47",
   "metadata": {},
   "outputs": [
    {
     "data": {
      "text/plain": [
       "(tensor([[[7.2700e-03, 2.8960e-02, 1.0489e-03, 2.0788e-02],\n",
       "          [4.8824e-01, 4.4418e-01, 9.6251e-01, 4.1781e-01],\n",
       "          [2.4466e-04, 1.5837e-01, 2.9062e-01, 4.9354e-01],\n",
       "          [7.6918e-01, 2.2543e-01, 3.5383e-01, 6.0355e-01]],\n",
       " \n",
       "         [[1.8700e-01, 8.5181e-01, 8.9745e-02, 2.1495e-01],\n",
       "          [5.8706e-01, 1.5679e-01, 8.6324e-01, 3.6595e-01],\n",
       "          [7.5022e-01, 2.6289e-01, 1.0678e-02, 6.3564e-01],\n",
       "          [1.9160e-01, 8.6907e-01, 1.4854e-02, 6.1889e-03]],\n",
       " \n",
       "         [[2.5743e-01, 3.1034e-01, 7.6476e-01, 8.2600e-02],\n",
       "          [8.7327e-01, 4.7654e-01, 7.0152e-02, 8.9737e-02],\n",
       "          [3.3597e-01, 1.0453e-02, 1.3607e-02, 3.0345e-01],\n",
       "          [2.3825e-04, 8.5903e-01, 3.5449e-05, 8.6718e-01]]]),\n",
       " torch.float16)"
      ]
     },
     "execution_count": 13,
     "metadata": {},
     "output_type": "execute_result"
    }
   ],
   "source": [
    "T2 = T1.type(torch.float16)\n",
    "T2 * T1,T2.dtype"
   ]
  },
  {
   "cell_type": "code",
   "execution_count": 17,
   "id": "26a3ca62-39da-4d51-b415-2ca139e49179",
   "metadata": {},
   "outputs": [
    {
     "data": {
      "text/plain": [
       "(tensor(46), tensor(0.0060, dtype=torch.float16))"
      ]
     },
     "execution_count": 17,
     "metadata": {},
     "output_type": "execute_result"
    }
   ],
   "source": [
    "T2.argmin, T2.min()"
   ]
  }
 ],
 "metadata": {
  "kernelspec": {
   "display_name": "Python 3 (ipykernel)",
   "language": "python",
   "name": "python3"
  },
  "language_info": {
   "codemirror_mode": {
    "name": "ipython",
    "version": 3
   },
   "file_extension": ".py",
   "mimetype": "text/x-python",
   "name": "python",
   "nbconvert_exporter": "python",
   "pygments_lexer": "ipython3",
   "version": "3.12.9"
  }
 },
 "nbformat": 4,
 "nbformat_minor": 5
}
